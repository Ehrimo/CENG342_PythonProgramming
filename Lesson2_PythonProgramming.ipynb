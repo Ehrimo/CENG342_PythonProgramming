{
  "nbformat": 4,
  "nbformat_minor": 0,
  "metadata": {
    "colab": {
      "provenance": []
    },
    "kernelspec": {
      "name": "python3",
      "display_name": "Python 3"
    },
    "language_info": {
      "name": "python"
    }
  },
  "cells": [
    {
      "cell_type": "markdown",
      "source": [
        "#Using Variables in Strings"
      ],
      "metadata": {
        "id": "NRBqzMIdB-bj"
      }
    },
    {
      "cell_type": "code",
      "source": [
        "first_name=\"Murat\"\n",
        "last_name=\"Simsek\"\n",
        "\n",
        "full_name= f\"{first_name} {last_name}\"\n",
        "\n",
        "print(full_name)"
      ],
      "metadata": {
        "colab": {
          "base_uri": "https://localhost:8080/"
        },
        "id": "0VvCJ0mdX_UU",
        "outputId": "0f8d7318-fd4c-4e8d-de41-88bf8ecfa537"
      },
      "execution_count": null,
      "outputs": [
        {
          "output_type": "stream",
          "name": "stdout",
          "text": [
            "Murat Simsek\n"
          ]
        }
      ]
    },
    {
      "cell_type": "markdown",
      "source": [
        "**f-string**"
      ],
      "metadata": {
        "id": "pif1tuNqcYJH"
      }
    },
    {
      "cell_type": "code",
      "source": [
        "print(f\"Hello, {full_name.title()}!\")"
      ],
      "metadata": {
        "colab": {
          "base_uri": "https://localhost:8080/"
        },
        "id": "lZ-cnPO0cbCk",
        "outputId": "44a16434-f6a1-4806-faa6-a42d1641a1a5"
      },
      "execution_count": null,
      "outputs": [
        {
          "output_type": "stream",
          "name": "stdout",
          "text": [
            "Hello, Murat Simsek!\n"
          ]
        }
      ]
    },
    {
      "cell_type": "markdown",
      "source": [
        "#Adding Whitespace to Strings with Tabs or Newlines"
      ],
      "metadata": {
        "id": "FIgfojvgFZt7"
      }
    },
    {
      "cell_type": "code",
      "source": [
        "print(\"Languages: \\nPython\\nC\\nJava\")"
      ],
      "metadata": {
        "colab": {
          "base_uri": "https://localhost:8080/"
        },
        "id": "GZA-IW5ycsNf",
        "outputId": "5963591e-22ec-42ca-ce9e-87e30c3ec213"
      },
      "execution_count": null,
      "outputs": [
        {
          "output_type": "stream",
          "name": "stdout",
          "text": [
            "Languages: \n",
            "Python\n",
            "C\n",
            "Java\n"
          ]
        }
      ]
    },
    {
      "cell_type": "markdown",
      "source": [
        "**\\n**"
      ],
      "metadata": {
        "id": "N5kzGStGc_4W"
      }
    },
    {
      "cell_type": "markdown",
      "source": [
        "#Stripping Whitespace"
      ],
      "metadata": {
        "id": "IRGEq_ILFjAW"
      }
    },
    {
      "cell_type": "code",
      "source": [
        "language=\" python \"\n",
        "\n",
        "print(language)"
      ],
      "metadata": {
        "colab": {
          "base_uri": "https://localhost:8080/"
        },
        "id": "h8GXbQF3FlAZ",
        "outputId": "a2472d1b-770b-40f5-a364-17527c82bd2f"
      },
      "execution_count": null,
      "outputs": [
        {
          "output_type": "stream",
          "name": "stdout",
          "text": [
            " python \n"
          ]
        }
      ]
    },
    {
      "cell_type": "code",
      "source": [
        "language.rstrip()"
      ],
      "metadata": {
        "colab": {
          "base_uri": "https://localhost:8080/",
          "height": 35
        },
        "id": "1lMbrDstdkgi",
        "outputId": "895241c1-73bd-4717-975f-3fe043cdd583"
      },
      "execution_count": null,
      "outputs": [
        {
          "output_type": "execute_result",
          "data": {
            "text/plain": [
              "'python'"
            ],
            "application/vnd.google.colaboratory.intrinsic+json": {
              "type": "string"
            }
          },
          "metadata": {},
          "execution_count": 12
        }
      ]
    },
    {
      "cell_type": "code",
      "source": [
        "language.lstrip()"
      ],
      "metadata": {
        "colab": {
          "base_uri": "https://localhost:8080/",
          "height": 35
        },
        "id": "4BAbfEwZdsDs",
        "outputId": "2e11e67f-550e-44ce-a8c1-d943c2c238b2"
      },
      "execution_count": null,
      "outputs": [
        {
          "output_type": "execute_result",
          "data": {
            "text/plain": [
              "'python '"
            ],
            "application/vnd.google.colaboratory.intrinsic+json": {
              "type": "string"
            }
          },
          "metadata": {},
          "execution_count": 15
        }
      ]
    },
    {
      "cell_type": "markdown",
      "source": [
        "# Underscores in Numbers"
      ],
      "metadata": {
        "id": "yx88TvKqFvmY"
      }
    },
    {
      "cell_type": "code",
      "source": [
        "universe_age=14_000_000_000\n",
        "print(universe_age)"
      ],
      "metadata": {
        "colab": {
          "base_uri": "https://localhost:8080/"
        },
        "id": "a2n2wfrYFxKW",
        "outputId": "fbfe4af8-df60-458e-89e3-b1dd4fefd615"
      },
      "execution_count": null,
      "outputs": [
        {
          "output_type": "stream",
          "name": "stdout",
          "text": [
            "14000000000\n"
          ]
        }
      ]
    },
    {
      "cell_type": "markdown",
      "source": [
        "# Multiple Assignment"
      ],
      "metadata": {
        "id": "_xH1n8ywFxbu"
      }
    },
    {
      "cell_type": "code",
      "source": [
        "x,y,z= 0,0,0"
      ],
      "metadata": {
        "id": "cnPl7VdWeejs"
      },
      "execution_count": null,
      "outputs": []
    },
    {
      "cell_type": "markdown",
      "source": [
        "#Constants"
      ],
      "metadata": {
        "id": "AeqXWNHAF0V-"
      }
    },
    {
      "cell_type": "code",
      "source": [
        "MAX_CONNECTIONS=5000"
      ],
      "metadata": {
        "id": "OusEJdzxezGY"
      },
      "execution_count": null,
      "outputs": []
    },
    {
      "cell_type": "markdown",
      "source": [
        "# Comments\n"
      ],
      "metadata": {
        "id": "Brq2tgeUF8wc"
      }
    },
    {
      "cell_type": "code",
      "source": [
        "#writing name script\n",
        "#name=\"Murat\"\n",
        "name=\"huseyinyusuf\"\n",
        "print(name)"
      ],
      "metadata": {
        "colab": {
          "base_uri": "https://localhost:8080/"
        },
        "id": "9fXYvpzlfHT5",
        "outputId": "81230fd4-9b63-45e8-a77a-d654862c19af"
      },
      "execution_count": null,
      "outputs": [
        {
          "output_type": "stream",
          "name": "stdout",
          "text": [
            "huseyinyusuf\n"
          ]
        }
      ]
    },
    {
      "cell_type": "markdown",
      "source": [
        "#**List**"
      ],
      "metadata": {
        "id": "-h5URlzefn_S"
      }
    },
    {
      "cell_type": "code",
      "source": [
        "cars=[\"ford\", \"mercedes\",\"bmw\", \"volvo\", \"toyota\"]\n",
        "print(cars)"
      ],
      "metadata": {
        "colab": {
          "base_uri": "https://localhost:8080/"
        },
        "id": "fXaNVNTZfnva",
        "outputId": "8688954e-e95b-47e9-8996-8d9d1648dae0"
      },
      "execution_count": null,
      "outputs": [
        {
          "output_type": "stream",
          "name": "stdout",
          "text": [
            "['ford', 'mercedes', 'bmw', 'volvo', 'toyota']\n"
          ]
        }
      ]
    },
    {
      "cell_type": "markdown",
      "source": [
        "if you want to create a list, you have to use square bracket []\n",
        "Yolu have to seperate all list elements using comma."
      ],
      "metadata": {
        "id": "YUpQqD8Ugu72"
      }
    },
    {
      "cell_type": "code",
      "source": [
        "print(cars[0])"
      ],
      "metadata": {
        "colab": {
          "base_uri": "https://localhost:8080/"
        },
        "id": "3lvtl0Vug-hM",
        "outputId": "c9903072-06f2-4482-a72e-47b4ef14302e"
      },
      "execution_count": null,
      "outputs": [
        {
          "output_type": "stream",
          "name": "stdout",
          "text": [
            "ford\n"
          ]
        }
      ]
    },
    {
      "cell_type": "markdown",
      "source": [
        "lists are ordered collections"
      ],
      "metadata": {
        "id": "tPeVaHZwhQlN"
      }
    },
    {
      "cell_type": "code",
      "source": [
        "print(cars[0].title())"
      ],
      "metadata": {
        "colab": {
          "base_uri": "https://localhost:8080/"
        },
        "id": "yVc1tx4OhZDW",
        "outputId": "ff23bc10-941d-442c-c179-320acbaa30cd"
      },
      "execution_count": null,
      "outputs": [
        {
          "output_type": "stream",
          "name": "stdout",
          "text": [
            "Ford\n"
          ]
        }
      ]
    },
    {
      "cell_type": "code",
      "source": [
        "print(cars[1])"
      ],
      "metadata": {
        "colab": {
          "base_uri": "https://localhost:8080/"
        },
        "id": "1SHoeltxhlrn",
        "outputId": "0e5cf4d6-299e-40b4-b0ff-a9180e53ed42"
      },
      "execution_count": null,
      "outputs": [
        {
          "output_type": "stream",
          "name": "stdout",
          "text": [
            "mercedes\n"
          ]
        }
      ]
    },
    {
      "cell_type": "code",
      "source": [
        "print(cars[3])"
      ],
      "metadata": {
        "colab": {
          "base_uri": "https://localhost:8080/"
        },
        "id": "8NRjxoCthpWA",
        "outputId": "1796346a-2d72-4045-d4ab-b1680fdc911d"
      },
      "execution_count": null,
      "outputs": [
        {
          "output_type": "stream",
          "name": "stdout",
          "text": [
            "volvo\n"
          ]
        }
      ]
    },
    {
      "cell_type": "code",
      "source": [
        "print(cars[4])"
      ],
      "metadata": {
        "colab": {
          "base_uri": "https://localhost:8080/"
        },
        "id": "zqPhoUOFhseL",
        "outputId": "f0cf3e7c-ee21-4ba8-c550-bb39ca6d6107"
      },
      "execution_count": null,
      "outputs": [
        {
          "output_type": "stream",
          "name": "stdout",
          "text": [
            "toyota\n"
          ]
        }
      ]
    },
    {
      "cell_type": "code",
      "source": [
        "print(cars[5])"
      ],
      "metadata": {
        "colab": {
          "base_uri": "https://localhost:8080/",
          "height": 165
        },
        "id": "w5zCwEjUhwIr",
        "outputId": "f16a6e17-c1f0-48b6-f58b-26d05844c98e"
      },
      "execution_count": null,
      "outputs": [
        {
          "output_type": "error",
          "ename": "IndexError",
          "evalue": "ignored",
          "traceback": [
            "\u001b[0;31m---------------------------------------------------------------------------\u001b[0m",
            "\u001b[0;31mIndexError\u001b[0m                                Traceback (most recent call last)",
            "\u001b[0;32m<ipython-input-29-be01cec20f16>\u001b[0m in \u001b[0;36m<module>\u001b[0;34m\u001b[0m\n\u001b[0;32m----> 1\u001b[0;31m \u001b[0mprint\u001b[0m\u001b[0;34m(\u001b[0m\u001b[0mcars\u001b[0m\u001b[0;34m[\u001b[0m\u001b[0;36m5\u001b[0m\u001b[0;34m]\u001b[0m\u001b[0;34m)\u001b[0m\u001b[0;34m\u001b[0m\u001b[0;34m\u001b[0m\u001b[0m\n\u001b[0m",
            "\u001b[0;31mIndexError\u001b[0m: list index out of range"
          ]
        }
      ]
    },
    {
      "cell_type": "code",
      "source": [
        "print(cars[-1])"
      ],
      "metadata": {
        "colab": {
          "base_uri": "https://localhost:8080/"
        },
        "id": "t7bbYAhoh6tm",
        "outputId": "42d46a0f-dbb4-4638-cc4c-881e2f6323d2"
      },
      "execution_count": null,
      "outputs": [
        {
          "output_type": "stream",
          "name": "stdout",
          "text": [
            "toyota\n"
          ]
        }
      ]
    },
    {
      "cell_type": "code",
      "source": [
        "massage=f\"Your car is {cars[0].title()}\"\n",
        "print(massage)"
      ],
      "metadata": {
        "colab": {
          "base_uri": "https://localhost:8080/"
        },
        "id": "U2PgqzHziD5m",
        "outputId": "f621dab8-0317-4dc3-993e-fa801fe8137e"
      },
      "execution_count": null,
      "outputs": [
        {
          "output_type": "stream",
          "name": "stdout",
          "text": [
            "Your car is Ford\n"
          ]
        }
      ]
    },
    {
      "cell_type": "markdown",
      "source": [
        "# **Changing, adding and removing Elements of List**"
      ],
      "metadata": {
        "id": "p8puknRhilu2"
      }
    },
    {
      "cell_type": "markdown",
      "source": [
        "\n",
        "\n",
        "*   List items are ordered, changeable, are allowe duplicate values.\n",
        "*   List items are indexed, the first item has index[0], the second item has index[1] etc\n",
        "\n"
      ],
      "metadata": {
        "id": "OKRV6yCznDQ5"
      }
    },
    {
      "cell_type": "code",
      "source": [
        "type(cars)"
      ],
      "metadata": {
        "colab": {
          "base_uri": "https://localhost:8080/"
        },
        "id": "bJDVCZ3uis5-",
        "outputId": "f533382e-cf7f-4e32-dfc7-1933d41bff95"
      },
      "execution_count": null,
      "outputs": [
        {
          "output_type": "execute_result",
          "data": {
            "text/plain": [
              "list"
            ]
          },
          "metadata": {},
          "execution_count": 32
        }
      ]
    },
    {
      "cell_type": "code",
      "source": [
        "cars"
      ],
      "metadata": {
        "colab": {
          "base_uri": "https://localhost:8080/"
        },
        "id": "JknpkdpBnuPY",
        "outputId": "9c34e36f-467a-494c-8751-3cbda58f968e"
      },
      "execution_count": null,
      "outputs": [
        {
          "output_type": "execute_result",
          "data": {
            "text/plain": [
              "['ford', 'mercedes', 'bmw', 'volvo', 'toyota']"
            ]
          },
          "metadata": {},
          "execution_count": 33
        }
      ]
    },
    {
      "cell_type": "code",
      "source": [
        "cars[0]"
      ],
      "metadata": {
        "colab": {
          "base_uri": "https://localhost:8080/",
          "height": 35
        },
        "id": "GBiSuN-_nwr3",
        "outputId": "6dc116fd-296b-4e6e-ede5-7aaf61fdc3c5"
      },
      "execution_count": null,
      "outputs": [
        {
          "output_type": "execute_result",
          "data": {
            "text/plain": [
              "'ford'"
            ],
            "application/vnd.google.colaboratory.intrinsic+json": {
              "type": "string"
            }
          },
          "metadata": {},
          "execution_count": 34
        }
      ]
    },
    {
      "cell_type": "code",
      "source": [
        "cars[0]=\"honda\""
      ],
      "metadata": {
        "id": "uvH5Oc6Cn4If"
      },
      "execution_count": null,
      "outputs": []
    },
    {
      "cell_type": "code",
      "source": [
        "cars"
      ],
      "metadata": {
        "colab": {
          "base_uri": "https://localhost:8080/"
        },
        "id": "t2-NbNLYoCih",
        "outputId": "7068fc6c-795c-40f3-cb4a-ee10bd9dfe3a"
      },
      "execution_count": null,
      "outputs": [
        {
          "output_type": "execute_result",
          "data": {
            "text/plain": [
              "['honda', 'mercedes', 'bmw', 'volvo', 'toyota']"
            ]
          },
          "metadata": {},
          "execution_count": 36
        }
      ]
    },
    {
      "cell_type": "code",
      "source": [
        "cars[2]=\"skoda\""
      ],
      "metadata": {
        "id": "xul04GTwoFa_"
      },
      "execution_count": null,
      "outputs": []
    },
    {
      "cell_type": "code",
      "source": [
        "cars"
      ],
      "metadata": {
        "colab": {
          "base_uri": "https://localhost:8080/"
        },
        "id": "JL2yv9gSoKFZ",
        "outputId": "bdb56edf-389c-441e-8594-6b06ab5fd313"
      },
      "execution_count": null,
      "outputs": [
        {
          "output_type": "execute_result",
          "data": {
            "text/plain": [
              "['honda', 'mercedes', 'skoda', 'volvo', 'toyota']"
            ]
          },
          "metadata": {},
          "execution_count": 38
        }
      ]
    },
    {
      "cell_type": "markdown",
      "source": [
        "**.append()**\n",
        "\n",
        "in python, you can add values to a list using the .append() method"
      ],
      "metadata": {
        "id": "oH4f_gMGodin"
      }
    },
    {
      "cell_type": "code",
      "source": [
        "cars"
      ],
      "metadata": {
        "colab": {
          "base_uri": "https://localhost:8080/"
        },
        "id": "RkNoLR1QobDC",
        "outputId": "71694912-aa63-40be-9ccb-e663b1db0343"
      },
      "execution_count": null,
      "outputs": [
        {
          "output_type": "execute_result",
          "data": {
            "text/plain": [
              "['honda', 'mercedes', 'skoda', 'volvo', 'toyota']"
            ]
          },
          "metadata": {},
          "execution_count": 39
        }
      ]
    },
    {
      "cell_type": "code",
      "source": [
        "cars.append(\"ford\")"
      ],
      "metadata": {
        "id": "NruJMMkyosAQ"
      },
      "execution_count": null,
      "outputs": []
    },
    {
      "cell_type": "code",
      "source": [
        "cars"
      ],
      "metadata": {
        "colab": {
          "base_uri": "https://localhost:8080/"
        },
        "id": "qpPTyxssowMp",
        "outputId": "9556e83e-c70d-4160-8acf-74e5e9ec1764"
      },
      "execution_count": null,
      "outputs": [
        {
          "output_type": "execute_result",
          "data": {
            "text/plain": [
              "['honda', 'mercedes', 'skoda', 'volvo', 'toyota', 'ford']"
            ]
          },
          "metadata": {},
          "execution_count": 41
        }
      ]
    },
    {
      "cell_type": "code",
      "source": [
        "motorcycles=[]"
      ],
      "metadata": {
        "id": "QjWSqYpJo6rX"
      },
      "execution_count": null,
      "outputs": []
    },
    {
      "cell_type": "code",
      "source": [
        "motorcycles.append(\"honda\")\n",
        "motorcycles.append(\"yamaha\")\n",
        "motorcycles.append(\"suzuki\")"
      ],
      "metadata": {
        "id": "QJyywYtSo9a5"
      },
      "execution_count": null,
      "outputs": []
    },
    {
      "cell_type": "code",
      "source": [
        "print(motorcycles)"
      ],
      "metadata": {
        "colab": {
          "base_uri": "https://localhost:8080/"
        },
        "id": "J9dXKwLspJKJ",
        "outputId": "8cce3d66-0b01-4e3b-fa09-d552e7b77f51"
      },
      "execution_count": null,
      "outputs": [
        {
          "output_type": "stream",
          "name": "stdout",
          "text": [
            "['honda', 'yamaha', 'suzuki']\n"
          ]
        }
      ]
    },
    {
      "cell_type": "code",
      "source": [
        "motorcycles.append(\"bmw\")"
      ],
      "metadata": {
        "id": "YfbRxURPpRkP"
      },
      "execution_count": null,
      "outputs": []
    },
    {
      "cell_type": "code",
      "source": [
        "motorcycles"
      ],
      "metadata": {
        "colab": {
          "base_uri": "https://localhost:8080/"
        },
        "id": "xU30rh7rpVyn",
        "outputId": "bd9a4fa3-2c27-4d7b-f8b0-328d485fa23f"
      },
      "execution_count": null,
      "outputs": [
        {
          "output_type": "execute_result",
          "data": {
            "text/plain": [
              "['honda', 'yamaha', 'suzuki', 'bmw']"
            ]
          },
          "metadata": {},
          "execution_count": 46
        }
      ]
    },
    {
      "cell_type": "markdown",
      "source": [
        "**.insert(index,new item)**"
      ],
      "metadata": {
        "id": "4vTYThSmp_Te"
      }
    },
    {
      "cell_type": "code",
      "source": [
        "motorcycles.insert(0, \"ducati\")"
      ],
      "metadata": {
        "id": "93BckpU_pbfm"
      },
      "execution_count": null,
      "outputs": []
    },
    {
      "cell_type": "code",
      "source": [
        "motorcycles"
      ],
      "metadata": {
        "colab": {
          "base_uri": "https://localhost:8080/"
        },
        "id": "8ekv5ZSVprbp",
        "outputId": "9bc8b8b1-c743-496f-8525-7fde59fa1ca4"
      },
      "execution_count": null,
      "outputs": [
        {
          "output_type": "execute_result",
          "data": {
            "text/plain": [
              "['ducati', 'honda', 'yamaha', 'suzuki', 'bmw']"
            ]
          },
          "metadata": {},
          "execution_count": 48
        }
      ]
    },
    {
      "cell_type": "markdown",
      "source": [
        "**removing an item using dell method**"
      ],
      "metadata": {
        "id": "GWCH000jqc0D"
      }
    },
    {
      "cell_type": "markdown",
      "source": [
        "**del method**"
      ],
      "metadata": {
        "id": "AFWM2iubqYxz"
      }
    },
    {
      "cell_type": "code",
      "source": [
        "del motorcycles[0]"
      ],
      "metadata": {
        "id": "Xjyd5ObOqDpT"
      },
      "execution_count": null,
      "outputs": []
    },
    {
      "cell_type": "code",
      "source": [
        "motorcycles"
      ],
      "metadata": {
        "colab": {
          "base_uri": "https://localhost:8080/"
        },
        "id": "r0yLJLcbqTGo",
        "outputId": "088b824d-5190-4232-909f-f1d4a095b69a"
      },
      "execution_count": null,
      "outputs": [
        {
          "output_type": "execute_result",
          "data": {
            "text/plain": [
              "['honda', 'yamaha', 'suzuki', 'bmw']"
            ]
          },
          "metadata": {},
          "execution_count": 50
        }
      ]
    },
    {
      "cell_type": "code",
      "source": [
        "del motorcycles[3]"
      ],
      "metadata": {
        "id": "-ZZWa7BWqjqY"
      },
      "execution_count": null,
      "outputs": []
    },
    {
      "cell_type": "code",
      "source": [
        "motorcycles"
      ],
      "metadata": {
        "colab": {
          "base_uri": "https://localhost:8080/"
        },
        "id": "lkIuq5s-qmxx",
        "outputId": "c879ddb9-2742-4260-e745-d0d2cd9dd3ae"
      },
      "execution_count": null,
      "outputs": [
        {
          "output_type": "execute_result",
          "data": {
            "text/plain": [
              "['honda', 'yamaha', 'suzuki']"
            ]
          },
          "metadata": {},
          "execution_count": 52
        }
      ]
    },
    {
      "cell_type": "code",
      "source": [
        "motorcycles.append(\"ducati\")"
      ],
      "metadata": {
        "id": "M-w2ymVpqqn5"
      },
      "execution_count": null,
      "outputs": []
    },
    {
      "cell_type": "code",
      "source": [
        "motorcycles"
      ],
      "metadata": {
        "colab": {
          "base_uri": "https://localhost:8080/"
        },
        "id": "Ju920likqyXY",
        "outputId": "7aeeda85-3f21-450a-d72a-d6934ede29d3"
      },
      "execution_count": null,
      "outputs": [
        {
          "output_type": "execute_result",
          "data": {
            "text/plain": [
              "['honda', 'yamaha', 'suzuki', 'ducati']"
            ]
          },
          "metadata": {},
          "execution_count": 54
        }
      ]
    },
    {
      "cell_type": "markdown",
      "source": [
        "**Removing an item using the pop() method**"
      ],
      "metadata": {
        "id": "3FCe-Di1rCi6"
      }
    },
    {
      "cell_type": "code",
      "source": [
        "motorcycles.pop()"
      ],
      "metadata": {
        "colab": {
          "base_uri": "https://localhost:8080/",
          "height": 35
        },
        "id": "MlJIZ9vmq23C",
        "outputId": "0a33aa9f-cfba-46cb-f4a5-fb10ec614330"
      },
      "execution_count": null,
      "outputs": [
        {
          "output_type": "execute_result",
          "data": {
            "text/plain": [
              "'ducati'"
            ],
            "application/vnd.google.colaboratory.intrinsic+json": {
              "type": "string"
            }
          },
          "metadata": {},
          "execution_count": 55
        }
      ]
    },
    {
      "cell_type": "code",
      "source": [
        "motorcycles"
      ],
      "metadata": {
        "colab": {
          "base_uri": "https://localhost:8080/"
        },
        "id": "-LvTxa0Gq9So",
        "outputId": "e29f3ee6-dcc6-4a74-80e5-fd8fef9be1d5"
      },
      "execution_count": null,
      "outputs": [
        {
          "output_type": "execute_result",
          "data": {
            "text/plain": [
              "['honda', 'yamaha', 'suzuki']"
            ]
          },
          "metadata": {},
          "execution_count": 56
        }
      ]
    },
    {
      "cell_type": "code",
      "source": [
        "motorcycles.append(\"suzuki\")"
      ],
      "metadata": {
        "id": "9jt0uzYArMtF"
      },
      "execution_count": null,
      "outputs": []
    },
    {
      "cell_type": "code",
      "source": [
        "motorcycles"
      ],
      "metadata": {
        "colab": {
          "base_uri": "https://localhost:8080/"
        },
        "id": "vqQQ6HI1rTBv",
        "outputId": "6799b6f5-fa5f-4df3-f518-98939381f329"
      },
      "execution_count": null,
      "outputs": [
        {
          "output_type": "execute_result",
          "data": {
            "text/plain": [
              "['honda', 'yamaha', 'suzuki', 'suzuki']"
            ]
          },
          "metadata": {},
          "execution_count": 58
        }
      ]
    },
    {
      "cell_type": "markdown",
      "source": [
        "**.count()**"
      ],
      "metadata": {
        "id": "wHihFWyRrnEb"
      }
    },
    {
      "cell_type": "code",
      "source": [
        "motorcycles.count(\"suzuki\")"
      ],
      "metadata": {
        "colab": {
          "base_uri": "https://localhost:8080/"
        },
        "id": "O98dnfY9rVUC",
        "outputId": "24b8f2ba-4624-4fe8-94bc-95dffe13ada7"
      },
      "execution_count": null,
      "outputs": [
        {
          "output_type": "execute_result",
          "data": {
            "text/plain": [
              "2"
            ]
          },
          "metadata": {},
          "execution_count": 59
        }
      ]
    },
    {
      "cell_type": "code",
      "source": [
        "motorcycles.count(\"honda\")"
      ],
      "metadata": {
        "colab": {
          "base_uri": "https://localhost:8080/"
        },
        "id": "xTWZj-5Irc6V",
        "outputId": "e955d5f0-7ff8-4b0b-fb3e-3fe299d9a808"
      },
      "execution_count": null,
      "outputs": [
        {
          "output_type": "execute_result",
          "data": {
            "text/plain": [
              "1"
            ]
          },
          "metadata": {},
          "execution_count": 60
        }
      ]
    },
    {
      "cell_type": "markdown",
      "source": [
        "**len()**"
      ],
      "metadata": {
        "id": "ULcBbt_UryGF"
      }
    },
    {
      "cell_type": "code",
      "source": [
        "print(len(motorcycles))"
      ],
      "metadata": {
        "colab": {
          "base_uri": "https://localhost:8080/"
        },
        "id": "MqE8vDGwrlKR",
        "outputId": "073cd129-0185-4615-a627-7dae8f42360e"
      },
      "execution_count": null,
      "outputs": [
        {
          "output_type": "stream",
          "name": "stdout",
          "text": [
            "4\n"
          ]
        }
      ]
    },
    {
      "cell_type": "markdown",
      "source": [
        "# Organizing the List"
      ],
      "metadata": {
        "id": "A_qKDVBZr2ip"
      }
    },
    {
      "cell_type": "markdown",
      "source": [
        "**.sort()**"
      ],
      "metadata": {
        "id": "9pD1zmKar9yv"
      }
    },
    {
      "cell_type": "markdown",
      "source": [
        "Numerical lists will be sorted in ascending order.\n",
        "String lists will be sorted into alphabetical order"
      ],
      "metadata": {
        "id": "Fw0mcJ7esH8t"
      }
    },
    {
      "cell_type": "code",
      "source": [
        "cars"
      ],
      "metadata": {
        "colab": {
          "base_uri": "https://localhost:8080/"
        },
        "id": "wfLHkLYcr0ND",
        "outputId": "ce3655c6-140f-492b-fa80-8c9aea6623a8"
      },
      "execution_count": null,
      "outputs": [
        {
          "output_type": "execute_result",
          "data": {
            "text/plain": [
              "['honda', 'mercedes', 'skoda', 'volvo', 'toyota', 'ford']"
            ]
          },
          "metadata": {},
          "execution_count": 62
        }
      ]
    },
    {
      "cell_type": "code",
      "source": [
        "cars.sort()"
      ],
      "metadata": {
        "id": "zuiUwP5osX1G"
      },
      "execution_count": null,
      "outputs": []
    },
    {
      "cell_type": "code",
      "source": [
        "cars"
      ],
      "metadata": {
        "colab": {
          "base_uri": "https://localhost:8080/"
        },
        "id": "xbodfRFNsZ_b",
        "outputId": "349ab3b0-f7eb-40f8-a296-e1b8422cc0a3"
      },
      "execution_count": null,
      "outputs": [
        {
          "output_type": "execute_result",
          "data": {
            "text/plain": [
              "['ford', 'honda', 'mercedes', 'skoda', 'toyota', 'volvo']"
            ]
          },
          "metadata": {},
          "execution_count": 64
        }
      ]
    },
    {
      "cell_type": "code",
      "source": [
        "number_list=[4,3,2,5]"
      ],
      "metadata": {
        "id": "DsY2Q15Vsekw"
      },
      "execution_count": null,
      "outputs": []
    },
    {
      "cell_type": "code",
      "source": [
        "number_list.sort()"
      ],
      "metadata": {
        "id": "QS4aoqY5skDl"
      },
      "execution_count": null,
      "outputs": []
    },
    {
      "cell_type": "code",
      "source": [
        "number_list"
      ],
      "metadata": {
        "colab": {
          "base_uri": "https://localhost:8080/"
        },
        "id": "3OFP3MRLsnUM",
        "outputId": "21940478-596e-4549-ddfd-a2b2225e4f23"
      },
      "execution_count": null,
      "outputs": [
        {
          "output_type": "execute_result",
          "data": {
            "text/plain": [
              "[2, 3, 4, 5]"
            ]
          },
          "metadata": {},
          "execution_count": 67
        }
      ]
    },
    {
      "cell_type": "code",
      "source": [
        "cars.sort(reverse=True)"
      ],
      "metadata": {
        "id": "O7cHTQddsvHv"
      },
      "execution_count": null,
      "outputs": []
    },
    {
      "cell_type": "code",
      "source": [
        "cars"
      ],
      "metadata": {
        "colab": {
          "base_uri": "https://localhost:8080/"
        },
        "id": "yDsjjgFXs1rV",
        "outputId": "ee7ffd41-7a62-4cd3-eed5-860b33ba8710"
      },
      "execution_count": null,
      "outputs": [
        {
          "output_type": "execute_result",
          "data": {
            "text/plain": [
              "['volvo', 'toyota', 'skoda', 'mercedes', 'honda', 'ford']"
            ]
          },
          "metadata": {},
          "execution_count": 69
        }
      ]
    },
    {
      "cell_type": "code",
      "source": [
        "number_list.sort(reverse=True)"
      ],
      "metadata": {
        "id": "fFb2u8r2s5-5"
      },
      "execution_count": null,
      "outputs": []
    },
    {
      "cell_type": "code",
      "source": [
        "number_list"
      ],
      "metadata": {
        "colab": {
          "base_uri": "https://localhost:8080/"
        },
        "id": "k2yDO55as-FG",
        "outputId": "deb9e8f0-f953-46c9-c414-1a1e5f4a57d2"
      },
      "execution_count": null,
      "outputs": [
        {
          "output_type": "execute_result",
          "data": {
            "text/plain": [
              "[5, 4, 3, 2]"
            ]
          },
          "metadata": {},
          "execution_count": 71
        }
      ]
    },
    {
      "cell_type": "code",
      "source": [
        "print(\"Here is the original list:\")\n",
        "print(cars)\n",
        "print(\"\\nHere is the sorted list:\")\n",
        "print(cars.sort())\n",
        "print(\"\\nHere is the origiinal list:\")\n",
        "print(cars.sort(reverse=True))"
      ],
      "metadata": {
        "colab": {
          "base_uri": "https://localhost:8080/"
        },
        "id": "Ix5Fv2NStI83",
        "outputId": "5c60cc20-3c3f-4c7e-d217-02007492b6a9"
      },
      "execution_count": null,
      "outputs": [
        {
          "output_type": "stream",
          "name": "stdout",
          "text": [
            "Here is the original list:\n",
            "['volvo', 'toyota', 'skoda', 'mercedes', 'honda']\n",
            "\n",
            "Here is the sorted list:\n",
            "None\n",
            "\n",
            "Here is the origiinal list:\n",
            "None\n"
          ]
        }
      ]
    },
    {
      "cell_type": "code",
      "source": [
        "len(cars)"
      ],
      "metadata": {
        "colab": {
          "base_uri": "https://localhost:8080/"
        },
        "id": "nbeK2FNmtRLX",
        "outputId": "fb91d3ba-074a-4d39-f4ad-524fb06529c7"
      },
      "execution_count": null,
      "outputs": [
        {
          "output_type": "execute_result",
          "data": {
            "text/plain": [
              "6"
            ]
          },
          "metadata": {},
          "execution_count": 75
        }
      ]
    },
    {
      "cell_type": "markdown",
      "source": [
        "**.remove()  method**"
      ],
      "metadata": {
        "id": "AeZSeB2luCyH"
      }
    },
    {
      "cell_type": "code",
      "source": [
        "cars.remove(\"ford\")"
      ],
      "metadata": {
        "id": "rpfzjHdHtxnh"
      },
      "execution_count": null,
      "outputs": []
    },
    {
      "cell_type": "code",
      "source": [
        "cars"
      ],
      "metadata": {
        "colab": {
          "base_uri": "https://localhost:8080/"
        },
        "id": "rquTzYH4t_W_",
        "outputId": "0dd17491-48ec-43d0-d2b4-521aaef06990"
      },
      "execution_count": null,
      "outputs": [
        {
          "output_type": "execute_result",
          "data": {
            "text/plain": [
              "['volvo', 'toyota', 'skoda', 'mercedes', 'honda']"
            ]
          },
          "metadata": {},
          "execution_count": 77
        }
      ]
    },
    {
      "cell_type": "markdown",
      "source": [
        "# Tuples"
      ],
      "metadata": {
        "id": "w_gRY0FXziEq"
      }
    },
    {
      "cell_type": "markdown",
      "source": [
        "\n",
        "\n",
        "\n",
        "1.   Tuple is also an ordered sequence of items as List.\n",
        "2.   Tuple also holds multiple data types.\n",
        "3.   The only difference in Tuple&List is that Tuple is immutable; once created it cannot be changed.\n",
        "4.   Creating a tuple is as sample as putting different comma-seperated values within round brackets.\n",
        "\n",
        "\n"
      ],
      "metadata": {
        "id": "gW8s6vfszmM_"
      }
    },
    {
      "cell_type": "code",
      "source": [
        "fruit=(\"apple\",\"banana\",\"cherry\")"
      ],
      "metadata": {
        "id": "F6hiuEmMuTXg"
      },
      "execution_count": null,
      "outputs": []
    },
    {
      "cell_type": "code",
      "source": [
        "print(fruit)"
      ],
      "metadata": {
        "colab": {
          "base_uri": "https://localhost:8080/"
        },
        "id": "RYQ-SHv60i3i",
        "outputId": "9e870944-b479-4695-992d-6848120d1fda"
      },
      "execution_count": null,
      "outputs": [
        {
          "output_type": "stream",
          "name": "stdout",
          "text": [
            "('apple', 'banana', 'cherry')\n"
          ]
        }
      ]
    },
    {
      "cell_type": "code",
      "source": [
        "type(fruit)"
      ],
      "metadata": {
        "colab": {
          "base_uri": "https://localhost:8080/"
        },
        "id": "Hba7rKLz0lgl",
        "outputId": "6f0b4def-3e71-42de-c094-1cd32d2dabd1"
      },
      "execution_count": null,
      "outputs": [
        {
          "output_type": "execute_result",
          "data": {
            "text/plain": [
              "tuple"
            ]
          },
          "metadata": {},
          "execution_count": 81
        }
      ]
    },
    {
      "cell_type": "markdown",
      "source": [
        "**Tuple Items**\n",
        "\n",
        "\n",
        "Tuple items are ordered, unchangeable, and allow duplicate values.\n",
        "\n",
        "Tuple items are indexed, the first item has index [0], the second item has index [1] etc.\n",
        "\n"
      ],
      "metadata": {
        "id": "of0_1ZbMKUFs"
      }
    },
    {
      "cell_type": "markdown",
      "source": [
        "**Ordered**\n",
        "\n",
        "\n",
        "When we say that tuples are ordered, it means that the items have a defined order, and that order will not change."
      ],
      "metadata": {
        "id": "HTYQLXDYKZ8g"
      }
    },
    {
      "cell_type": "markdown",
      "source": [
        "**Unchangeable**\n",
        "\n",
        "\n",
        "Tuples are unchangeable, meaning that we cannot change, add or remove items after the tuple has been created."
      ],
      "metadata": {
        "id": "i0Ey3kr9Kbig"
      }
    },
    {
      "cell_type": "markdown",
      "source": [
        "**Allow Duplicates**\n",
        "\n",
        "Since tuples are indexed, they can have items with the same value:"
      ],
      "metadata": {
        "id": "FbF-lBuoKixg"
      }
    },
    {
      "cell_type": "code",
      "source": [
        "fruit"
      ],
      "metadata": {
        "colab": {
          "base_uri": "https://localhost:8080/"
        },
        "id": "AMzrzTIA1CsN",
        "outputId": "05186eeb-245f-467b-fb89-bc2e7534c891"
      },
      "execution_count": null,
      "outputs": [
        {
          "output_type": "execute_result",
          "data": {
            "text/plain": [
              "('apple', 'banana', 'cherry')"
            ]
          },
          "metadata": {},
          "execution_count": 82
        }
      ]
    },
    {
      "cell_type": "code",
      "source": [
        "type(fruit)"
      ],
      "metadata": {
        "colab": {
          "base_uri": "https://localhost:8080/"
        },
        "id": "4cXe8crw1FLj",
        "outputId": "c9ded0f9-cca8-4965-abc5-fedced1e782f"
      },
      "execution_count": null,
      "outputs": [
        {
          "output_type": "execute_result",
          "data": {
            "text/plain": [
              "tuple"
            ]
          },
          "metadata": {},
          "execution_count": 83
        }
      ]
    },
    {
      "cell_type": "code",
      "source": [
        "variable=(\"apple\")"
      ],
      "metadata": {
        "id": "9uU3rksC1Jw8"
      },
      "execution_count": null,
      "outputs": []
    },
    {
      "cell_type": "code",
      "source": [
        "type(variable)"
      ],
      "metadata": {
        "colab": {
          "base_uri": "https://localhost:8080/"
        },
        "id": "HMthg7cL1NpD",
        "outputId": "e4ae3714-1968-46ab-f740-3957d19e9011"
      },
      "execution_count": null,
      "outputs": [
        {
          "output_type": "execute_result",
          "data": {
            "text/plain": [
              "str"
            ]
          },
          "metadata": {},
          "execution_count": 85
        }
      ]
    },
    {
      "cell_type": "code",
      "source": [
        "tuple1=(\"murat\",40, True,\"ahmet\",3.14)"
      ],
      "metadata": {
        "id": "CTrLGUs71VNO"
      },
      "execution_count": null,
      "outputs": []
    },
    {
      "cell_type": "code",
      "source": [
        "print(tuple1[1])"
      ],
      "metadata": {
        "colab": {
          "base_uri": "https://localhost:8080/"
        },
        "id": "4Nw9C1DK1lVJ",
        "outputId": "662cbfdc-66f2-4ed2-aa64-5b2ec3fd801a"
      },
      "execution_count": null,
      "outputs": [
        {
          "output_type": "stream",
          "name": "stdout",
          "text": [
            "40\n"
          ]
        }
      ]
    },
    {
      "cell_type": "markdown",
      "source": [
        "# **Sets**"
      ],
      "metadata": {
        "id": "yu8qAXau1xSM"
      }
    },
    {
      "cell_type": "markdown",
      "source": [
        "##Python Sets\n",
        "\n",
        "\n",
        "\n",
        "*   Sets are used to store multiple items in a single variable.\n",
        "\n",
        "*   Set is one of 4 built-in data types in Python used to store collections of data, the other 3 are List, Tuple, and Dictionary, all with different qualities and usage.\n",
        "\n",
        "*   A set is a collection which is unordered, unchangeable*, and unindexed.\n",
        "\n",
        "* Note: Set items are unchangeable, but you can remove items and add new items.\n",
        "\n"
      ],
      "metadata": {
        "id": "9LV5b4OdP5Gp"
      }
    },
    {
      "cell_type": "code",
      "source": [
        "fruitset={\"apple\",\"banana\",\"cherry\"}"
      ],
      "metadata": {
        "id": "Ip-6jwqR2SIL"
      },
      "execution_count": null,
      "outputs": []
    },
    {
      "cell_type": "code",
      "source": [
        "type(fruitset)"
      ],
      "metadata": {
        "colab": {
          "base_uri": "https://localhost:8080/"
        },
        "id": "NAjp4LsQ2Xxd",
        "outputId": "78af1802-7372-4a07-d24b-d90f854447cd"
      },
      "execution_count": null,
      "outputs": [
        {
          "output_type": "execute_result",
          "data": {
            "text/plain": [
              "set"
            ]
          },
          "metadata": {},
          "execution_count": 89
        }
      ]
    },
    {
      "cell_type": "markdown",
      "source": [
        "**Duplicates Not Allowed**\n",
        "\n",
        "Sets cannot have two items with the same value."
      ],
      "metadata": {
        "id": "fFWnNXyYReTb"
      }
    },
    {
      "cell_type": "code",
      "source": [
        "set={\"apple\",\"banana\",\"cherry\",\"apple\"}\n",
        "print(set)"
      ],
      "metadata": {
        "colab": {
          "base_uri": "https://localhost:8080/"
        },
        "id": "VTZPBqtc2b-5",
        "outputId": "b83fdce7-1f22-4cf1-adfd-9e7ce69d953a"
      },
      "execution_count": null,
      "outputs": [
        {
          "output_type": "stream",
          "name": "stdout",
          "text": [
            "{'cherry', 'apple', 'banana'}\n"
          ]
        }
      ]
    },
    {
      "cell_type": "code",
      "source": [
        "set1={\"abc\", 123, 3.14,True}"
      ],
      "metadata": {
        "id": "GLE3XpVJ2wGi"
      },
      "execution_count": null,
      "outputs": []
    },
    {
      "cell_type": "markdown",
      "source": [
        "**.add() method**"
      ],
      "metadata": {
        "id": "weCBmhGU2_Sf"
      }
    },
    {
      "cell_type": "code",
      "source": [
        "set1.add(\"python\")"
      ],
      "metadata": {
        "id": "N_00jYXJ24m7"
      },
      "execution_count": null,
      "outputs": []
    },
    {
      "cell_type": "code",
      "source": [
        "set1"
      ],
      "metadata": {
        "colab": {
          "base_uri": "https://localhost:8080/"
        },
        "id": "gNzjeaW_29JV",
        "outputId": "a649e990-de59-4858-cd7d-427a1fc4d75b"
      },
      "execution_count": null,
      "outputs": [
        {
          "output_type": "execute_result",
          "data": {
            "text/plain": [
              "{123, 3.14, True, 'abc', 'python'}"
            ]
          },
          "metadata": {},
          "execution_count": 94
        }
      ]
    },
    {
      "cell_type": "markdown",
      "source": [
        "**Remove Item**\n",
        "\n",
        "\n",
        "To remove an item in a set, use the remove(), or the discard() method."
      ],
      "metadata": {
        "id": "CR_U-1uUSbVu"
      }
    },
    {
      "cell_type": "markdown",
      "source": [
        "**.remove() method**"
      ],
      "metadata": {
        "id": "jdOX9ZD13OtV"
      }
    },
    {
      "cell_type": "code",
      "source": [
        "set1.remove(\"python\")"
      ],
      "metadata": {
        "id": "MSei2QT73CBZ"
      },
      "execution_count": null,
      "outputs": []
    },
    {
      "cell_type": "code",
      "source": [
        "set1"
      ],
      "metadata": {
        "colab": {
          "base_uri": "https://localhost:8080/"
        },
        "id": "zW2d8BF93JFr",
        "outputId": "2aad89da-300d-4906-a9f1-7d88eff92ff6"
      },
      "execution_count": null,
      "outputs": [
        {
          "output_type": "execute_result",
          "data": {
            "text/plain": [
              "{123, 3.14, True, 'abc'}"
            ]
          },
          "metadata": {},
          "execution_count": 96
        }
      ]
    },
    {
      "cell_type": "markdown",
      "source": [
        "**discard() method**"
      ],
      "metadata": {
        "id": "1GrnOg283UHX"
      }
    },
    {
      "cell_type": "code",
      "source": [
        "set1.discard(\"abc\")"
      ],
      "metadata": {
        "id": "HhrD9SAK3OAZ"
      },
      "execution_count": null,
      "outputs": []
    },
    {
      "cell_type": "code",
      "source": [
        "set1"
      ],
      "metadata": {
        "colab": {
          "base_uri": "https://localhost:8080/"
        },
        "id": "hrT037Fx3aZk",
        "outputId": "e24173d0-7364-4511-b8db-478587e85ef0"
      },
      "execution_count": null,
      "outputs": [
        {
          "output_type": "execute_result",
          "data": {
            "text/plain": [
              "{True, 3.14, 123}"
            ]
          },
          "metadata": {},
          "execution_count": 98
        }
      ]
    },
    {
      "cell_type": "markdown",
      "source": [
        "**clear() method**"
      ],
      "metadata": {
        "id": "K0NCL01I3foE"
      }
    },
    {
      "cell_type": "code",
      "source": [
        "set1.clear()"
      ],
      "metadata": {
        "id": "29-M0dun3iLD"
      },
      "execution_count": null,
      "outputs": []
    },
    {
      "cell_type": "code",
      "source": [
        "set1"
      ],
      "metadata": {
        "colab": {
          "base_uri": "https://localhost:8080/"
        },
        "id": "MpQPpFVc3mVf",
        "outputId": "54e7e8d2-11e3-44d8-92f2-b87a32678592"
      },
      "execution_count": null,
      "outputs": [
        {
          "output_type": "execute_result",
          "data": {
            "text/plain": [
              "set()"
            ]
          },
          "metadata": {},
          "execution_count": 100
        }
      ]
    },
    {
      "cell_type": "markdown",
      "source": [
        "**del method**"
      ],
      "metadata": {
        "id": "uqsE0des3r3U"
      }
    },
    {
      "cell_type": "code",
      "source": [
        "set"
      ],
      "metadata": {
        "colab": {
          "base_uri": "https://localhost:8080/"
        },
        "id": "Xa3bSoft3reS",
        "outputId": "a34fcb65-a957-4792-f381-dcd763fad473"
      },
      "execution_count": null,
      "outputs": [
        {
          "output_type": "execute_result",
          "data": {
            "text/plain": [
              "{'apple', 'banana', 'cherry'}"
            ]
          },
          "metadata": {},
          "execution_count": 101
        }
      ]
    },
    {
      "cell_type": "code",
      "source": [
        "del set"
      ],
      "metadata": {
        "id": "VtdYqI5y3y67"
      },
      "execution_count": null,
      "outputs": []
    },
    {
      "cell_type": "code",
      "source": [
        "print(set)"
      ],
      "metadata": {
        "colab": {
          "base_uri": "https://localhost:8080/"
        },
        "id": "WGH2ndGG304Z",
        "outputId": "91bfeff0-5e45-46d2-ffbd-b1e85f88b567"
      },
      "execution_count": null,
      "outputs": [
        {
          "output_type": "stream",
          "name": "stdout",
          "text": [
            "<class 'set'>\n"
          ]
        }
      ]
    },
    {
      "cell_type": "markdown",
      "source": [
        "##**Dictionaries in Python**\n",
        "\n",
        "\n",
        "\n",
        "*   Dictionary is an unordered collection of key-value pairs.\n",
        "*   Real word dictionaries are a good analogy to understand them: they contain a list of items(words), each item has a key(the word) and a value(the word’s meaning).\n",
        "*   It generally is used when we have a huge amount of data."
      ],
      "metadata": {
        "id": "q4hX-klyWUKU"
      }
    },
    {
      "cell_type": "markdown",
      "source": [
        "Dictionaries are written with curly brackets, and have **keys** and **values**:"
      ],
      "metadata": {
        "id": "t-zqi6ZlWktl"
      }
    },
    {
      "cell_type": "code",
      "source": [
        "dict_car={\"brand\":\"mercedes\", \"model\":\"c200\", \"year\":2021, \"price\":2000}"
      ],
      "metadata": {
        "id": "z7_Pg7PU4p13"
      },
      "execution_count": null,
      "outputs": []
    },
    {
      "cell_type": "code",
      "source": [
        "type(dict_car)"
      ],
      "metadata": {
        "colab": {
          "base_uri": "https://localhost:8080/"
        },
        "id": "rD5GrTJc5Hqd",
        "outputId": "6da41425-eb7f-429d-a6fe-60ceb99dc3c5"
      },
      "execution_count": null,
      "outputs": [
        {
          "output_type": "execute_result",
          "data": {
            "text/plain": [
              "dict"
            ]
          },
          "metadata": {},
          "execution_count": 105
        }
      ]
    },
    {
      "cell_type": "code",
      "source": [
        "print(dict_car)"
      ],
      "metadata": {
        "colab": {
          "base_uri": "https://localhost:8080/"
        },
        "id": "JsHDVXuQ5Kb_",
        "outputId": "2c4ebdb2-dbbb-4cd3-c1e8-3fcadb1abe3b"
      },
      "execution_count": null,
      "outputs": [
        {
          "output_type": "stream",
          "name": "stdout",
          "text": [
            "{'brand': 'mercedes', 'model': 'c200', 'year': 2021, 'price': 2000}\n"
          ]
        }
      ]
    },
    {
      "cell_type": "code",
      "source": [
        "print(dict_car[\"price\"])"
      ],
      "metadata": {
        "colab": {
          "base_uri": "https://localhost:8080/"
        },
        "id": "Hn22Un7o5NZ1",
        "outputId": "82964be7-4677-465e-9bd9-b0c99a5f6f3b"
      },
      "execution_count": null,
      "outputs": [
        {
          "output_type": "stream",
          "name": "stdout",
          "text": [
            "2000\n"
          ]
        }
      ]
    },
    {
      "cell_type": "code",
      "source": [
        "print(dict_car[\"year\"])"
      ],
      "metadata": {
        "colab": {
          "base_uri": "https://localhost:8080/"
        },
        "id": "ZLuY59Vj5XR6",
        "outputId": "aa6b7845-abcc-4434-b534-9d48db5c4742"
      },
      "execution_count": null,
      "outputs": [
        {
          "output_type": "stream",
          "name": "stdout",
          "text": [
            "2021\n"
          ]
        }
      ]
    },
    {
      "cell_type": "code",
      "source": [
        "print(dict_car[\"brand\"])"
      ],
      "metadata": {
        "colab": {
          "base_uri": "https://localhost:8080/"
        },
        "id": "q25i1UAA5ceu",
        "outputId": "1e33c451-4d5d-4bad-f2da-5c266c107b79"
      },
      "execution_count": null,
      "outputs": [
        {
          "output_type": "stream",
          "name": "stdout",
          "text": [
            "mercedes\n"
          ]
        }
      ]
    },
    {
      "cell_type": "markdown",
      "source": [
        "**Dictionary Items**\n",
        "\n",
        "Dictionary items are ordered, changeable, and does not allow duplicates.\n",
        "\n",
        "Dictionary items are presented in key:value pairs, and can be referred to by using the key name."
      ],
      "metadata": {
        "id": "OGEACUS6WvL_"
      }
    },
    {
      "cell_type": "code",
      "source": [
        "car2={\n",
        "    \"brand\":\"bmw\",\n",
        "    \"model\":\"ix3\",\n",
        "    \"year\":2022,\n",
        "    \"price\":2250\n",
        "}"
      ],
      "metadata": {
        "id": "10uWJvZ35xz9"
      },
      "execution_count": null,
      "outputs": []
    },
    {
      "cell_type": "code",
      "source": [
        "type(car2)"
      ],
      "metadata": {
        "colab": {
          "base_uri": "https://localhost:8080/"
        },
        "id": "O9ngvMuo6LFZ",
        "outputId": "e170f41b-278a-42c4-d525-f30421bd21e4"
      },
      "execution_count": null,
      "outputs": [
        {
          "output_type": "execute_result",
          "data": {
            "text/plain": [
              "dict"
            ]
          },
          "metadata": {},
          "execution_count": 113
        }
      ]
    },
    {
      "cell_type": "code",
      "source": [
        "print(car2[\"year\"])"
      ],
      "metadata": {
        "colab": {
          "base_uri": "https://localhost:8080/"
        },
        "id": "BcMAP2Rc6NE3",
        "outputId": "63c6bbf9-8a30-4a53-c9ac-148209539fd0"
      },
      "execution_count": null,
      "outputs": [
        {
          "output_type": "stream",
          "name": "stdout",
          "text": [
            "2022\n"
          ]
        }
      ]
    },
    {
      "cell_type": "code",
      "source": [
        "car2={\n",
        "    \"brand\":\"bmw\",\n",
        "    \"model\":\"ix3\",\n",
        "    \"year\":2022,\n",
        "    \"price\":2250,\n",
        "    \"price\":2500\n",
        "}"
      ],
      "metadata": {
        "id": "JGXCreYU6VFz"
      },
      "execution_count": null,
      "outputs": []
    },
    {
      "cell_type": "code",
      "source": [
        "car2"
      ],
      "metadata": {
        "colab": {
          "base_uri": "https://localhost:8080/"
        },
        "id": "vCfRd7zM6aln",
        "outputId": "4bb0e956-7a17-4733-8835-9599863aee5b"
      },
      "execution_count": null,
      "outputs": [
        {
          "output_type": "execute_result",
          "data": {
            "text/plain": [
              "{'brand': 'bmw', 'model': 'ix3', 'year': 2022, 'price': 2500}"
            ]
          },
          "metadata": {},
          "execution_count": 116
        }
      ]
    },
    {
      "cell_type": "code",
      "source": [
        "print(len(car2))"
      ],
      "metadata": {
        "colab": {
          "base_uri": "https://localhost:8080/"
        },
        "id": "ljs3a9266fjj",
        "outputId": "e197fc9a-7285-45f4-c2af-1efbd7965ee2"
      },
      "execution_count": null,
      "outputs": [
        {
          "output_type": "stream",
          "name": "stdout",
          "text": [
            "4\n"
          ]
        }
      ]
    },
    {
      "cell_type": "code",
      "source": [
        "car3={\n",
        "    \"brand\":\"bmw\",\n",
        "    \"model\":\"ix3\",\n",
        "    \"year\":2022,\n",
        "    \"price\":2250,\n",
        "    \"color\":[\"red\",\"white\",\"blue\"]\n",
        "}"
      ],
      "metadata": {
        "id": "mLamJeXQ6pKd"
      },
      "execution_count": null,
      "outputs": []
    },
    {
      "cell_type": "code",
      "source": [
        "print(car3[\"color\"])"
      ],
      "metadata": {
        "colab": {
          "base_uri": "https://localhost:8080/"
        },
        "id": "WN_zAdTU63VL",
        "outputId": "a95889c8-6173-46b8-d696-bd7cdee99cbb"
      },
      "execution_count": null,
      "outputs": [
        {
          "output_type": "stream",
          "name": "stdout",
          "text": [
            "['red', 'white', 'blue']\n"
          ]
        }
      ]
    },
    {
      "cell_type": "markdown",
      "source": [
        "**Change Values**\n",
        "\n",
        "\n",
        "You can change the value of a specific item by referring to its key name:"
      ],
      "metadata": {
        "id": "-EuoZ0peXThQ"
      }
    },
    {
      "cell_type": "code",
      "source": [
        "car3[\"year\"]=2023"
      ],
      "metadata": {
        "id": "wLVTci-T7HYk"
      },
      "execution_count": null,
      "outputs": []
    },
    {
      "cell_type": "code",
      "source": [
        "car3"
      ],
      "metadata": {
        "colab": {
          "base_uri": "https://localhost:8080/"
        },
        "id": "gFoxcKxQ7RE_",
        "outputId": "9fd4b360-3b3c-4ac1-c797-445276722d9e"
      },
      "execution_count": null,
      "outputs": [
        {
          "output_type": "execute_result",
          "data": {
            "text/plain": [
              "{'brand': 'bmw',\n",
              " 'model': 'ix3',\n",
              " 'year': 2023,\n",
              " 'price': 2250,\n",
              " 'color': ['red', 'white', 'blue']}"
            ]
          },
          "metadata": {},
          "execution_count": 123
        }
      ]
    },
    {
      "cell_type": "code",
      "source": [
        "car3.update({\"model\":\"m3\"})"
      ],
      "metadata": {
        "id": "MUUXV_zj7ZIT"
      },
      "execution_count": null,
      "outputs": []
    },
    {
      "cell_type": "code",
      "source": [
        "car3"
      ],
      "metadata": {
        "colab": {
          "base_uri": "https://localhost:8080/"
        },
        "id": "PV7GcAmB7k6J",
        "outputId": "d2e62e2d-57d9-4623-ae2c-4e49a109c12b"
      },
      "execution_count": null,
      "outputs": [
        {
          "output_type": "execute_result",
          "data": {
            "text/plain": [
              "{'brand': 'bmw',\n",
              " 'model': 'm3',\n",
              " 'year': 2023,\n",
              " 'price': 2250,\n",
              " 'color': ['red', 'white', 'blue']}"
            ]
          },
          "metadata": {},
          "execution_count": 125
        }
      ]
    },
    {
      "cell_type": "markdown",
      "source": [
        "**Removing Items**\n",
        "\n",
        "\n",
        "There are several methods to remove items from a dictionary:\n",
        "\n",
        "The pop() method removes the item with the specified key name:"
      ],
      "metadata": {
        "id": "DTilXC4kZIJA"
      }
    },
    {
      "cell_type": "code",
      "source": [
        "car3"
      ],
      "metadata": {
        "colab": {
          "base_uri": "https://localhost:8080/"
        },
        "id": "U655zlqa7waI",
        "outputId": "477abf2d-4c74-4c09-adc2-dc4f4ec3b310"
      },
      "execution_count": null,
      "outputs": [
        {
          "output_type": "execute_result",
          "data": {
            "text/plain": [
              "{'brand': 'bmw',\n",
              " 'model': 'm3',\n",
              " 'year': 2023,\n",
              " 'price': 2250,\n",
              " 'color': ['red', 'white', 'blue']}"
            ]
          },
          "metadata": {},
          "execution_count": 126
        }
      ]
    },
    {
      "cell_type": "code",
      "source": [
        "car3.pop(\"price\")"
      ],
      "metadata": {
        "colab": {
          "base_uri": "https://localhost:8080/"
        },
        "id": "zLn3AnfK7004",
        "outputId": "fb1f11c6-e0b5-4f5a-9acc-f19de948c43f"
      },
      "execution_count": null,
      "outputs": [
        {
          "output_type": "execute_result",
          "data": {
            "text/plain": [
              "2250"
            ]
          },
          "metadata": {},
          "execution_count": 127
        }
      ]
    },
    {
      "cell_type": "code",
      "source": [
        "car3"
      ],
      "metadata": {
        "colab": {
          "base_uri": "https://localhost:8080/"
        },
        "id": "FoXeecwD739j",
        "outputId": "1d9cf9cd-d098-43d6-8307-99a43e7730e3"
      },
      "execution_count": null,
      "outputs": [
        {
          "output_type": "execute_result",
          "data": {
            "text/plain": [
              "{'brand': 'bmw',\n",
              " 'model': 'm3',\n",
              " 'year': 2023,\n",
              " 'color': ['red', 'white', 'blue']}"
            ]
          },
          "metadata": {},
          "execution_count": 128
        }
      ]
    },
    {
      "cell_type": "code",
      "source": [
        "del car3[\"model\"]"
      ],
      "metadata": {
        "id": "7R24S6hF7-4v"
      },
      "execution_count": null,
      "outputs": []
    },
    {
      "cell_type": "code",
      "source": [
        "car3"
      ],
      "metadata": {
        "colab": {
          "base_uri": "https://localhost:8080/"
        },
        "id": "JeW0fiCJ8B4F",
        "outputId": "0485f156-a58f-483c-b0c8-592459c3c7f0"
      },
      "execution_count": null,
      "outputs": [
        {
          "output_type": "execute_result",
          "data": {
            "text/plain": [
              "{'brand': 'bmw', 'year': 2023, 'color': ['red', 'white', 'blue']}"
            ]
          },
          "metadata": {},
          "execution_count": 130
        }
      ]
    },
    {
      "cell_type": "code",
      "source": [
        "car3.clear()"
      ],
      "metadata": {
        "id": "4peCJxNy8Ffp"
      },
      "execution_count": null,
      "outputs": []
    },
    {
      "cell_type": "code",
      "source": [
        "print(car3)"
      ],
      "metadata": {
        "colab": {
          "base_uri": "https://localhost:8080/"
        },
        "id": "AS240fbe8JpM",
        "outputId": "918e5cfe-0c43-4259-e3d4-37b36ccebf1d"
      },
      "execution_count": null,
      "outputs": [
        {
          "output_type": "stream",
          "name": "stdout",
          "text": [
            "{}\n"
          ]
        }
      ]
    },
    {
      "cell_type": "markdown",
      "source": [],
      "metadata": {
        "id": "Tx2uINoI8ZmI"
      }
    },
    {
      "cell_type": "markdown",
      "source": [
        "##END OF THE WEEK\n",
        "\n",
        "##SEE YOU NEXT WEEK"
      ],
      "metadata": {
        "id": "fc9Jsns66cnI"
      }
    }
  ]
}